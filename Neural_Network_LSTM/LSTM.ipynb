{
 "cells": [
  {
   "cell_type": "markdown",
   "id": "d4408f2b-7e5f-4442-b75b-685e5d8a0fa2",
   "metadata": {},
   "source": [
    "# Library"
   ]
  },
  {
   "cell_type": "code",
   "execution_count": 2,
   "id": "45b34187-92f4-4648-886d-53f6beaf42e2",
   "metadata": {},
   "outputs": [],
   "source": [
    "#preprocessing data\n",
    "import os\n",
    "import pandas as pd\n",
    "import matplotlib.pyplot as plt\n",
    "\n",
    "#split data\n",
    "from sklearn.model_selection import train_test_split\n",
    "import pickle\n",
    "\n",
    "#handling imbalanced data\n",
    "from collections import Counter\n",
    "from imblearn.over_sampling import RandomOverSampler\n",
    "\n",
    "#feauture extraction Layer\n",
    "from tensorflow.keras.layers import TextVectorization\n",
    "import numpy as np\n",
    "\n",
    "#Model Architecture\n",
    "from tensorflow.keras import layers\n",
    "from tensorflow.keras.models import Sequential\n",
    "from tensorflow.keras.layers import Dense, Dropout, Embedding, LSTM, Activation\n",
    "from tensorflow.keras.utils import plot_model\n",
    "\n",
    "#Model Compiler\n",
    "from tensorflow.keras import optimizers\n",
    "from tensorflow.keras.losses import BinaryCrossentropy, CategoricalCrossentropy\n",
    "from tensorflow.keras.metrics import Accuracy, MeanSquaredError, AUC\n",
    "\n",
    "#Model Training\n",
    "from tensorflow.keras.callbacks import EarlyStopping, ReduceLROnPlateau, LearningRateScheduler\n",
    "\n",
    "#report evaluation model\n",
    "from sklearn.metrics import classification_report\n",
    "from sklearn.metrics import confusion_matrix, ConfusionMatrixDisplay\n",
    "\n",
    "#load model\n",
    "from keras.models import load_model"
   ]
  },
  {
   "cell_type": "code",
   "execution_count": 3,
   "id": "5bce8d8e-5668-4995-be94-b8481b3b1d6e",
   "metadata": {},
   "outputs": [],
   "source": [
    "import tensorflow as tf"
   ]
  },
  {
   "cell_type": "code",
   "execution_count": 4,
   "id": "aafc331f-451f-431e-94ca-261c4215300d",
   "metadata": {},
   "outputs": [
    {
     "data": {
      "text/plain": [
       "<tf.Tensor: shape=(2, 2), dtype=int32, numpy=\n",
       "array([[ 58,  64],\n",
       "       [139, 154]])>"
      ]
     },
     "execution_count": 4,
     "metadata": {},
     "output_type": "execute_result"
    }
   ],
   "source": [
    "a = tf.constant([1, 2, 3, 4, 5, 6], shape=[2, 3])\n",
    "a  # 2-D tensor\n",
    "b = tf.constant([7, 8, 9, 10, 11, 12], shape=[3, 2])\n",
    "b  # 2-D tensor\n",
    "c = tf.matmul(a, b)\n",
    "c  # `a` * `b`"
   ]
  },
  {
   "cell_type": "markdown",
   "id": "d2421be5-2f3d-4c8d-834b-60c5286869b6",
   "metadata": {},
   "source": [
    "# Preprocessing Data"
   ]
  },
  {
   "cell_type": "markdown",
   "id": "57511731-d3ff-466f-91ae-5320bc9ad8b4",
   "metadata": {},
   "source": [
    "## Import Data"
   ]
  },
  {
   "cell_type": "code",
   "execution_count": 2,
   "id": "d41bf23e-6c41-4774-a830-6c3e626d0539",
   "metadata": {},
   "outputs": [],
   "source": [
    "import os\n",
    "import pandas as pd\n",
    "import matplotlib.pyplot as plt"
   ]
  },
  {
   "cell_type": "code",
   "execution_count": 3,
   "id": "c5bdf0e4-94f2-4ea3-a82d-590787367de5",
   "metadata": {},
   "outputs": [],
   "source": [
    "current_directory = os.path.dirname(os.path.abspath(\"LSTM.ipynb\"))"
   ]
  },
  {
   "cell_type": "code",
   "execution_count": 4,
   "id": "7b134e3c-ff4a-4034-8735-ad552c10ad36",
   "metadata": {},
   "outputs": [
    {
     "data": {
      "text/html": [
       "<div>\n",
       "<style scoped>\n",
       "    .dataframe tbody tr th:only-of-type {\n",
       "        vertical-align: middle;\n",
       "    }\n",
       "\n",
       "    .dataframe tbody tr th {\n",
       "        vertical-align: top;\n",
       "    }\n",
       "\n",
       "    .dataframe thead th {\n",
       "        text-align: right;\n",
       "    }\n",
       "</style>\n",
       "<table border=\"1\" class=\"dataframe\">\n",
       "  <thead>\n",
       "    <tr style=\"text-align: right;\">\n",
       "      <th></th>\n",
       "      <th>text</th>\n",
       "      <th>label</th>\n",
       "      <th>text_clean</th>\n",
       "    </tr>\n",
       "  </thead>\n",
       "  <tbody>\n",
       "    <tr>\n",
       "      <th>0</th>\n",
       "      <td>warung ini dimiliki oleh pengusaha pabrik tahu...</td>\n",
       "      <td>positive</td>\n",
       "      <td>warung dimiliki pengusaha pabrik tahu puluhan ...</td>\n",
       "    </tr>\n",
       "    <tr>\n",
       "      <th>1</th>\n",
       "      <td>mohon ulama lurus dan k212 mmbri hujjah partai...</td>\n",
       "      <td>neutral</td>\n",
       "      <td>mohon ulama lurus k mmbri hujjah pak ai apa ha...</td>\n",
       "    </tr>\n",
       "    <tr>\n",
       "      <th>2</th>\n",
       "      <td>lokasi strategis di jalan sumatera bandung . t...</td>\n",
       "      <td>positive</td>\n",
       "      <td>lokasi strategis jalan sumatra bandung tempat ...</td>\n",
       "    </tr>\n",
       "    <tr>\n",
       "      <th>3</th>\n",
       "      <td>betapa bahagia nya diri ini saat unboxing pake...</td>\n",
       "      <td>positive</td>\n",
       "      <td>betapa bahagia diri unboxing paket barang bagu...</td>\n",
       "    </tr>\n",
       "    <tr>\n",
       "      <th>4</th>\n",
       "      <td>duh . jadi mahasiswa jangan sombong dong . kas...</td>\n",
       "      <td>negative</td>\n",
       "      <td>aduh jadi mahasiswa jangan sombong dong kasih ...</td>\n",
       "    </tr>\n",
       "  </tbody>\n",
       "</table>\n",
       "</div>"
      ],
      "text/plain": [
       "                                                text     label  \\\n",
       "0  warung ini dimiliki oleh pengusaha pabrik tahu...  positive   \n",
       "1  mohon ulama lurus dan k212 mmbri hujjah partai...   neutral   \n",
       "2  lokasi strategis di jalan sumatera bandung . t...  positive   \n",
       "3  betapa bahagia nya diri ini saat unboxing pake...  positive   \n",
       "4  duh . jadi mahasiswa jangan sombong dong . kas...  negative   \n",
       "\n",
       "                                          text_clean  \n",
       "0  warung dimiliki pengusaha pabrik tahu puluhan ...  \n",
       "1  mohon ulama lurus k mmbri hujjah pak ai apa ha...  \n",
       "2  lokasi strategis jalan sumatra bandung tempat ...  \n",
       "3  betapa bahagia diri unboxing paket barang bagu...  \n",
       "4  aduh jadi mahasiswa jangan sombong dong kasih ...  "
      ]
     },
     "execution_count": 4,
     "metadata": {},
     "output_type": "execute_result"
    }
   ],
   "source": [
    "df_train = pd.read_csv(current_directory + \"\\\\Clean_dataset\\\\Clean_train_preprocess.csv\")\n",
    "df_train.head()"
   ]
  },
  {
   "cell_type": "code",
   "execution_count": 5,
   "id": "46f96efa-adea-41cf-8ce6-aff71321bb15",
   "metadata": {},
   "outputs": [
    {
     "name": "stdout",
     "output_type": "stream",
     "text": [
      "<class 'pandas.core.frame.DataFrame'>\n",
      "RangeIndex: 10933 entries, 0 to 10932\n",
      "Data columns (total 3 columns):\n",
      " #   Column      Non-Null Count  Dtype \n",
      "---  ------      --------------  ----- \n",
      " 0   text        10933 non-null  object\n",
      " 1   label       10933 non-null  object\n",
      " 2   text_clean  10933 non-null  object\n",
      "dtypes: object(3)\n",
      "memory usage: 256.4+ KB\n"
     ]
    }
   ],
   "source": [
    "df_train.info()"
   ]
  },
  {
   "cell_type": "code",
   "execution_count": 6,
   "id": "74c5b705-bb81-485d-ae9c-5961157ae768",
   "metadata": {},
   "outputs": [
    {
     "data": {
      "text/plain": [
       "label\n",
       "positive    6383\n",
       "negative    3412\n",
       "neutral     1138\n",
       "Name: count, dtype: int64"
      ]
     },
     "execution_count": 6,
     "metadata": {},
     "output_type": "execute_result"
    }
   ],
   "source": [
    "df_train['label'].value_counts()"
   ]
  },
  {
   "cell_type": "code",
   "execution_count": 7,
   "id": "66fcbae4-bcc6-4e7a-8a9d-7db1c28194eb",
   "metadata": {},
   "outputs": [
    {
     "data": {
      "image/png": "[encoded data removed]",
      "text/plain": [
       "<Figure size 640x480 with 1 Axes>"
      ]
     },
     "metadata": {},
     "output_type": "display_data"
    }
   ],
   "source": [
    "plt.pie([6383, 3412, 1138], labels= ['positive', 'negative', 'neutral'], autopct='%1.1f%%')\n",
    "plt.show()"
   ]
  },
  {
   "cell_type": "markdown",
   "id": "597aba3e-a89a-40b2-8f1f-9a8b8e7eb8ec",
   "metadata": {
    "jp-MarkdownHeadingCollapsed": true
   },
   "source": [
    "## Sort Data from Label "
   ]
  },
  {
   "cell_type": "code",
   "execution_count": 8,
   "id": "a7f9f757-a037-44b3-b5bc-a11a222921a6",
   "metadata": {},
   "outputs": [],
   "source": [
    "neg = df_train.loc[df_train['label'] == 'negative'].text_clean.tolist()\n",
    "neu = df_train.loc[df_train['label'] == 'neutral'].text_clean.tolist()\n",
    "pos = df_train.loc[df_train['label'] == 'positive'].text_clean.tolist()\n",
    "\n",
    "neg_label = df_train.loc[df_train['label'] == 'negative'].label.tolist()\n",
    "neu_label = df_train.loc[df_train['label'] == 'neutral'].label.tolist()\n",
    "pos_label = df_train.loc[df_train['label'] == 'positive'].label.tolist()"
   ]
  },
  {
   "cell_type": "code",
   "execution_count": 9,
   "id": "8cb104f4-b6e3-4760-820b-95a27e8c750b",
   "metadata": {},
   "outputs": [
    {
     "name": "stdout",
     "output_type": "stream",
     "text": [
      "Pos: 6383, Neu: 1138, Neg: 3412\n",
      "Total data: 10933\n"
     ]
    }
   ],
   "source": [
    "total_data = pos + neu + neg\n",
    "labels = pos_label + neu_label + neg_label\n",
    "\n",
    "print('Pos: %s, Neu: %s, Neg: %s' % (len(pos), len(neu), len(neg)))\n",
    "print('Total data: %s' % len(total_data))"
   ]
  },
  {
   "cell_type": "markdown",
   "id": "f75a52af-4aef-48b3-bc80-a3af1377ca19",
   "metadata": {},
   "source": [
    "## Split Data"
   ]
  },
  {
   "cell_type": "code",
   "execution_count": 10,
   "id": "92ccd61c-d67f-4fe2-b4fa-73e1d6bbca41",
   "metadata": {},
   "outputs": [],
   "source": [
    "from sklearn.model_selection import train_test_split\n",
    "import matplotlib.pyplot as plt"
   ]
  },
  {
   "cell_type": "code",
   "execution_count": 12,
   "id": "bfaf9b7b-fc1d-41aa-98be-7897c6dbe92b",
   "metadata": {},
   "outputs": [],
   "source": [
    "data_text = df_train[['text_clean']]\n",
    "labels = df_train['label']"
   ]
  },
  {
   "cell_type": "code",
   "execution_count": 16,
   "id": "4f829ffd-4a2f-499c-89ca-cc981221a937",
   "metadata": {},
   "outputs": [],
   "source": [
    "X_train, X_ass, y_train, y_ass = train_test_split(data_text, labels, test_size=0.4, random_state=42)"
   ]
  },
  {
   "cell_type": "code",
   "execution_count": 17,
   "id": "ff9f197b-a310-4d61-9b94-bed329c7e6ab",
   "metadata": {},
   "outputs": [],
   "source": [
    "X_test, X_valid, y_test, y_valid = train_test_split(X_ass, y_ass, test_size=0.5, random_state=42)"
   ]
  },
  {
   "cell_type": "code",
   "execution_count": 24,
   "id": "06af575d-82d4-440f-ab59-0866def76bdd",
   "metadata": {},
   "outputs": [
    {
     "data": {
      "image/png": "[encoded data removed]",
      "text/plain": [
       "<Figure size 640x480 with 1 Axes>"
      ]
     },
     "metadata": {},
     "output_type": "display_data"
    }
   ],
   "source": [
    "plt.pie([len(X_train), len(X_test), len(X_valid)], \n",
    "        labels=['Train', 'Test', 'Valid'], \n",
    "        autopct='%1.1f%%')\n",
    "plt.show()"
   ]
  },
  {
   "cell_type": "markdown",
   "id": "856d8ee3-5322-4f3c-b67b-439165de15f3",
   "metadata": {},
   "source": [
    "## Handling Imbalanced Data Training"
   ]
  },
  {
   "cell_type": "code",
   "execution_count": 25,
   "id": "1f228832-c11a-4a85-a54e-6854b6519c92",
   "metadata": {},
   "outputs": [],
   "source": [
    "from collections import Counter\n",
    "from imblearn.over_sampling import RandomOverSampler"
   ]
  },
  {
   "cell_type": "code",
   "execution_count": 26,
   "id": "654fef44-febe-4b45-8de5-a87b0ffe5b42",
   "metadata": {},
   "outputs": [
    {
     "data": {
      "text/plain": [
       "Counter({'positive': 3805, 'negative': 2055, 'neutral': 699})"
      ]
     },
     "execution_count": 26,
     "metadata": {},
     "output_type": "execute_result"
    }
   ],
   "source": [
    "Counter(y_train)"
   ]
  },
  {
   "cell_type": "code",
   "execution_count": 27,
   "id": "73b7005c-51f7-4161-bd4a-6d9ce4e2b50c",
   "metadata": {},
   "outputs": [],
   "source": [
    "from collections import Counter\n",
    "from imblearn.over_sampling import RandomOverSampler\n",
    "\n",
    "ROS = RandomOverSampler()\n",
    "X_train_ros, y_train_ros = ROS.fit_resample(X_train, y_train)"
   ]
  },
  {
   "cell_type": "code",
   "execution_count": 28,
   "id": "ff9290a9-3e80-4bc8-92e1-a056bd250fe3",
   "metadata": {},
   "outputs": [
    {
     "data": {
      "text/plain": [
       "Counter({'positive': 3805, 'negative': 3805, 'neutral': 3805})"
      ]
     },
     "execution_count": 28,
     "metadata": {},
     "output_type": "execute_result"
    }
   ],
   "source": [
    "Counter(y_train_ros)"
   ]
  },
  {
   "cell_type": "markdown",
   "id": "0628ee11-faa7-4b0f-8ecb-8bbfc6797013",
   "metadata": {},
   "source": [
    "# TextVectorization (Encoder)"
   ]
  },
  {
   "cell_type": "code",
   "execution_count": 15,
   "id": "79a237f1-d65d-46c3-a570-44a002cc9333",
   "metadata": {},
   "outputs": [],
   "source": [
    "import pickle\n",
    "from tensorflow.keras.layers import TextVectorization\n",
    "import numpy as np"
   ]
  },
  {
   "cell_type": "code",
   "execution_count": 50,
   "id": "d868763f-7f1a-45fd-8914-3e7fe3715d99",
   "metadata": {},
   "outputs": [],
   "source": [
    "max_features = 10000\n",
    "\n",
    "#Create Layer\n",
    "encoder = TextVectorization(max_tokens=max_features, \n",
    "                            split='whitespace', \n",
    "                            standardize='lower')\n",
    "                            # output_mode='tf_idf')\n",
    "                            # pad_to_max_tokens=True)\n",
    "encoder.adapt(X_train_ros.text_clean.tolist())"
   ]
  },
  {
   "cell_type": "code",
   "execution_count": 51,
   "id": "62722920-aa35-44c9-af46-96c49936f312",
   "metadata": {},
   "outputs": [
    {
     "data": {
      "text/plain": [
       "array(['[UNK]', 'tidak', 'makanan', 'enak', 'tempat', 'makan', 'sangat',\n",
       "       'harga', 'bisa', 'sini'], dtype='<U26')"
      ]
     },
     "execution_count": 51,
     "metadata": {},
     "output_type": "execute_result"
    }
   ],
   "source": [
    "vocab = np.array(encoder.get_vocabulary())\n",
    "vocab[:10]"
   ]
  },
  {
   "cell_type": "code",
   "execution_count": 20,
   "id": "f34fdb66-4360-4717-84bb-9a67670f3b1a",
   "metadata": {},
   "outputs": [],
   "source": [
    "X_train = np.array(X_train)"
   ]
  },
  {
   "cell_type": "code",
   "execution_count": 33,
   "id": "d2c75e92-3d7e-47dc-8089-b9f6f1e20901",
   "metadata": {},
   "outputs": [],
   "source": [
    "X_valid = np.array(X_valid)"
   ]
  },
  {
   "cell_type": "code",
   "execution_count": 34,
   "id": "7d9a7351-8546-4e98-b230-c92007634f2e",
   "metadata": {},
   "outputs": [],
   "source": [
    "X_test = np.array(X_test)"
   ]
  },
  {
   "cell_type": "code",
   "execution_count": 35,
   "id": "53ae43a7-6522-4054-81c6-89ba1190aaf4",
   "metadata": {},
   "outputs": [],
   "source": [
    "y_train = pd.get_dummies(y_train_ros)\n",
    "y_train = y_train.values"
   ]
  },
  {
   "cell_type": "code",
   "execution_count": 36,
   "id": "a0bf13ca-fda3-4a1a-8637-5e57e74a8ca6",
   "metadata": {},
   "outputs": [],
   "source": [
    "y_valid = pd.get_dummies(y_valid)\n",
    "y_valid = y_valid.values"
   ]
  },
  {
   "cell_type": "code",
   "execution_count": 37,
   "id": "6392f731-ac5a-419c-89ce-859675cd74b1",
   "metadata": {},
   "outputs": [],
   "source": [
    "y_test = pd.get_dummies(y_test)\n",
    "y_test = y_test.values"
   ]
  },
  {
   "cell_type": "markdown",
   "id": "b3cb7cc8-f201-47a5-bca3-53f1c70515ce",
   "metadata": {},
   "source": [
    "# Training Model LSTM"
   ]
  },
  {
   "cell_type": "code",
   "execution_count": 38,
   "id": "35007e51-a98b-41a3-97b3-d631f34230bf",
   "metadata": {},
   "outputs": [],
   "source": [
    "import numpy as np\n",
    "from tensorflow.keras import layers\n",
    "from tensorflow.keras.models import Sequential\n",
    "from tensorflow.keras.layers import Dense, Dropout, Embedding, LSTM\n",
    "from tensorflow.keras.utils import plot_model"
   ]
  },
  {
   "cell_type": "markdown",
   "id": "0fff9360-c1c4-4c0c-8363-6e90b31e400b",
   "metadata": {},
   "source": [
    "## Architecture"
   ]
  },
  {
   "cell_type": "code",
   "execution_count": 52,
   "id": "1397b206-5adf-47bb-8834-4e0478e08591",
   "metadata": {},
   "outputs": [],
   "source": [
    "from tensorflow.keras import layers\n",
    "from tensorflow.keras.models import Sequential\n",
    "from tensorflow.keras.layers import Dense, Dropout, Embedding, LSTM\n",
    "from tensorflow.keras.utils import plot_model\n",
    "\n",
    "length_input = len(encoder.get_vocabulary())\n",
    "length_output = 100\n",
    "\n",
    "model = Sequential()\n",
    "model.add(encoder)\n",
    "model.add(Embedding(input_dim=length_input, \n",
    "                    output_dim=length_output))\n",
    "model.add(LSTM(64, dropout=0.2))\n",
    "model.add(Dense(32, activation='relu'))\n",
    "model.add(Dropout(0.4))\n",
    "model.add(Dense(32, activation='relu'))\n",
    "model.add(Dropout(0.4))\n",
    "model.add(Dense(3, activation='softmax'))"
   ]
  },
  {
   "cell_type": "code",
   "execution_count": 40,
   "id": "567ecb6d-336e-4a8f-9e08-0ac3dedd50a0",
   "metadata": {},
   "outputs": [],
   "source": [
    "# plot_model(model, to_file = \"model.png\", show_shapes=True)"
   ]
  },
  {
   "cell_type": "markdown",
   "id": "d0be547e-201d-4959-8ca8-43fb1163d0df",
   "metadata": {},
   "source": [
    "## Compile"
   ]
  },
  {
   "cell_type": "code",
   "execution_count": 41,
   "id": "d03ffb32-fe13-4452-8ab4-3ed987980979",
   "metadata": {},
   "outputs": [],
   "source": [
    "from tensorflow.keras import optimizers\n",
    "from tensorflow.keras.losses import CategoricalCrossentropy\n",
    "from tensorflow.keras.metrics import Accuracy"
   ]
  },
  {
   "cell_type": "code",
   "execution_count": 53,
   "id": "7b5e407a-15f9-4ca2-b8b5-34dfbe7242a4",
   "metadata": {},
   "outputs": [
    {
     "name": "stdout",
     "output_type": "stream",
     "text": [
      "Model: \"sequential_1\"\n",
      "_________________________________________________________________\n",
      " Layer (type)                Output Shape              Param #   \n",
      "=================================================================\n",
      " text_vectorization_1 (Text  (None, 10000)             1         \n",
      " Vectorization)                                                  \n",
      "                                                                 \n",
      " embedding_1 (Embedding)     (None, 10000, 100)        1000000   \n",
      "                                                                 \n",
      " lstm_1 (LSTM)               (None, 64)                42240     \n",
      "                                                                 \n",
      " dense_3 (Dense)             (None, 32)                2080      \n",
      "                                                                 \n",
      " dropout_2 (Dropout)         (None, 32)                0         \n",
      "                                                                 \n",
      " dense_4 (Dense)             (None, 32)                1056      \n",
      "                                                                 \n",
      " dropout_3 (Dropout)         (None, 32)                0         \n",
      "                                                                 \n",
      " dense_5 (Dense)             (None, 3)                 99        \n",
      "                                                                 \n",
      "=================================================================\n",
      "Total params: 1045476 (3.99 MB)\n",
      "Trainable params: 1045475 (3.99 MB)\n",
      "Non-trainable params: 1 (8.00 Byte)\n",
      "_________________________________________________________________\n",
      "None\n"
     ]
    }
   ],
   "source": [
    "model.compile(optimizer = optimizers.Adam(learning_rate=0.001), \n",
    "              loss= CategoricalCrossentropy(), \n",
    "              metrics= ['Accuracy'])\n",
    "\n",
    "print(model.summary())"
   ]
  },
  {
   "cell_type": "code",
   "execution_count": 43,
   "id": "b4a1d295-cb5d-4fdc-a6a9-4ee881eb691d",
   "metadata": {},
   "outputs": [
    {
     "name": "stdout",
     "output_type": "stream",
     "text": [
      "WARNING:tensorflow:From C:\\Users\\ASUS\\AppData\\Local\\Packages\\PythonSoftwareFoundation.Python.3.11_qbz5n2kfra8p0\\LocalCache\\local-packages\\Python311\\site-packages\\keras\\src\\engine\\base_layer_utils.py:384: The name tf.executing_eagerly_outside_functions is deprecated. Please use tf.compat.v1.executing_eagerly_outside_functions instead.\n",
      "\n",
      "357/357 [==============================] - 11s 17ms/step - loss: 1.0985 - Accuracy: 0.3338\n"
     ]
    },
    {
     "data": {
      "text/plain": [
       "[1.0984565019607544, 0.33377134799957275]"
      ]
     },
     "execution_count": 43,
     "metadata": {},
     "output_type": "execute_result"
    }
   ],
   "source": [
    "model.evaluate(X_train, y_train)"
   ]
  },
  {
   "cell_type": "code",
   "execution_count": 54,
   "id": "4df622e1-3dd1-411c-b712-ca7a7ae99c02",
   "metadata": {},
   "outputs": [
    {
     "name": "stdout",
     "output_type": "stream",
     "text": [
      "69/69 [==============================] - 164s 2s/step - loss: 1.0914 - Accuracy: 0.3091\n"
     ]
    },
    {
     "data": {
      "text/plain": [
       "[1.0914348363876343, 0.3090992271900177]"
      ]
     },
     "execution_count": 54,
     "metadata": {},
     "output_type": "execute_result"
    }
   ],
   "source": [
    "model.evaluate(X_valid, y_valid)"
   ]
  },
  {
   "cell_type": "markdown",
   "id": "43b35948-b795-4ba7-ba24-c2aa080acd74",
   "metadata": {},
   "source": [
    "## Train The Model"
   ]
  },
  {
   "cell_type": "code",
   "execution_count": 45,
   "id": "663d346f-d0f9-452d-bd32-41d0cab164a5",
   "metadata": {},
   "outputs": [],
   "source": [
    "from tensorflow.keras.callbacks import EarlyStopping, ReduceLROnPlateau, LearningRateScheduler"
   ]
  },
  {
   "cell_type": "code",
   "execution_count": 46,
   "id": "bca11bef-3515-4465-8062-123e46390dc6",
   "metadata": {},
   "outputs": [],
   "source": [
    "my_callbacks = [\n",
    "    EarlyStopping(monitor='val_loss', patience = 5, verbose=1)\n",
    "    # ReduceLROnPlateau(patience = 4)\n",
    "]"
   ]
  },
  {
   "cell_type": "code",
   "execution_count": 47,
   "id": "b67efe8d-b357-4d93-9d6e-58017080933f",
   "metadata": {},
   "outputs": [
    {
     "name": "stdout",
     "output_type": "stream",
     "text": [
      "Epoch 1/20\n",
      "357/357 [==============================] - 33s 68ms/step - loss: 0.8687 - Accuracy: 0.5613 - val_loss: 0.8201 - val_Accuracy: 0.6118\n",
      "Epoch 2/20\n",
      "357/357 [==============================] - 24s 67ms/step - loss: 0.8232 - Accuracy: 0.6176 - val_loss: 0.7971 - val_Accuracy: 0.6269\n",
      "Epoch 3/20\n",
      "357/357 [==============================] - 20s 55ms/step - loss: 0.6613 - Accuracy: 0.7200 - val_loss: 0.6312 - val_Accuracy: 0.7609\n",
      "Epoch 4/20\n",
      "357/357 [==============================] - 27s 74ms/step - loss: 0.3327 - Accuracy: 0.9076 - val_loss: 0.6685 - val_Accuracy: 0.8139\n",
      "Epoch 5/20\n",
      "357/357 [==============================] - 21s 58ms/step - loss: 0.2472 - Accuracy: 0.9435 - val_loss: 0.7250 - val_Accuracy: 0.7965\n",
      "Epoch 6/20\n",
      "357/357 [==============================] - 24s 66ms/step - loss: 0.1661 - Accuracy: 0.9603 - val_loss: 0.8949 - val_Accuracy: 0.7979\n",
      "Epoch 7/20\n",
      "357/357 [==============================] - 23s 64ms/step - loss: 0.1412 - Accuracy: 0.9646 - val_loss: 0.8310 - val_Accuracy: 0.8121\n",
      "Epoch 8/20\n",
      "357/357 [==============================] - 21s 59ms/step - loss: 0.1140 - Accuracy: 0.9721 - val_loss: 0.8460 - val_Accuracy: 0.8162\n",
      "Epoch 8: early stopping\n"
     ]
    }
   ],
   "source": [
    "history = model.fit(X_train, \n",
    "                    y_train,\n",
    "                    batch_size = 32,\n",
    "                    epochs=20,\n",
    "                    validation_data=(X_valid, y_valid),\n",
    "                    verbose=1,\n",
    "                    callbacks=my_callbacks)"
   ]
  },
  {
   "cell_type": "markdown",
   "id": "a03b7656-8447-4479-9357-bb1d0dfc7b08",
   "metadata": {},
   "source": [
    "## Train, Validation Loss & Accuracy Curve"
   ]
  },
  {
   "cell_type": "code",
   "execution_count": 121,
   "id": "ab7082cf-fdf2-4550-bec1-6bb3a9d92af3",
   "metadata": {},
   "outputs": [],
   "source": [
    "import matplotlib.pyplot as plt"
   ]
  },
  {
   "cell_type": "code",
   "execution_count": 122,
   "id": "48827e09-72e5-47bb-b6c0-55c930c76840",
   "metadata": {},
   "outputs": [],
   "source": [
    "def plot_history(history):\n",
    "    plt.style.use('ggplot')\n",
    "    \n",
    "    acc = history.history['Accuracy']\n",
    "    val_acc = history.history['val_Accuracy']\n",
    "    loss = history.history['loss']\n",
    "    val_loss = history.history['val_loss']\n",
    "    x = range(1, len(acc) + 1)\n",
    "\n",
    "    plt.figure(figsize=(12, 5))\n",
    "    \n",
    "    plt.subplot(1, 2, 1)\n",
    "    plt.plot(x, acc, 'b', label='Training acc')\n",
    "    plt.plot(x, val_acc, 'r', label='Validation acc')\n",
    "    plt.title('Training & Validation Accuracy')\n",
    "    plt.ylim([0, 1])\n",
    "    plt.legend()\n",
    "\n",
    "    plt.subplot(1, 2, 2)\n",
    "    plt.plot(x, loss, 'b', label='Training loss')\n",
    "    plt.plot(x, val_loss, 'r', label='Validation loss')\n",
    "    plt.title('Training & Validation Loss')\n",
    "    plt.ylim([0, 1])\n",
    "    plt.legend()\n",
    "    \n",
    "    plt.savefig('image.png')"
   ]
  },
  {
   "cell_type": "code",
   "execution_count": 137,
   "id": "1428b4d6-16de-4bd7-9108-fb703ee534ba",
   "metadata": {},
   "outputs": [
    {
     "data": {
      "image/png": "[encoded data removed]",
      "text/plain": [
       "<Figure size 1200x500 with 2 Axes>"
      ]
     },
     "metadata": {},
     "output_type": "display_data"
    }
   ],
   "source": [
    "%matplotlib inline\n",
    "plot_history(history)"
   ]
  },
  {
   "cell_type": "code",
   "execution_count": 88,
   "id": "f036abd8-2973-45e9-81b2-bc1cd014d58c",
   "metadata": {},
   "outputs": [],
   "source": [
    "model.save(\"model_10.keras\", save_format=\"keras\")"
   ]
  },
  {
   "cell_type": "markdown",
   "id": "fcc5a8e7-cdd0-463b-a845-f976c449424a",
   "metadata": {},
   "source": [
    "# Evaluation"
   ]
  },
  {
   "cell_type": "code",
   "execution_count": 25,
   "id": "eb6a560f-0aa2-46ac-9499-26a630ba6968",
   "metadata": {},
   "outputs": [],
   "source": [
    "import matplotlib.pyplot as plt\n",
    "from sklearn.metrics import classification_report, confusion_matrix, ConfusionMatrixDisplay"
   ]
  },
  {
   "cell_type": "code",
   "execution_count": 124,
   "id": "e734fe8e-ec14-4e78-88d6-0e85c95c6ab8",
   "metadata": {},
   "outputs": [
    {
     "name": "stdout",
     "output_type": "stream",
     "text": [
      "69/69 [==============================] - 1s 11ms/step - loss: 1.1259 - Accuracy: 0.8281\n"
     ]
    },
    {
     "data": {
      "text/plain": [
       "[1.1258544921875, 0.8280749917030334]"
      ]
     },
     "execution_count": 124,
     "metadata": {},
     "output_type": "execute_result"
    }
   ],
   "source": [
    "model.evaluate(X_test, y_test)"
   ]
  },
  {
   "cell_type": "code",
   "execution_count": 139,
   "id": "7e2e6ee0-188c-4ec3-8536-1b8feb48aa6d",
   "metadata": {},
   "outputs": [
    {
     "name": "stdout",
     "output_type": "stream",
     "text": [
      "69/69 [==============================] - 1s 12ms/step\n",
      "Testing Selesai\n",
      "              precision    recall  f1-score   support\n",
      "\n",
      "           0       0.80      0.69      0.74       681\n",
      "           1       0.90      0.24      0.38       230\n",
      "           2       0.79      0.95      0.86      1276\n",
      "\n",
      "    accuracy                           0.80      2187\n",
      "   macro avg       0.83      0.63      0.66      2187\n",
      "weighted avg       0.81      0.80      0.78      2187\n",
      "\n"
     ]
    }
   ],
   "source": [
    "prediction = model_LSTM.predict(X_test)\n",
    "y_pred = prediction\n",
    "\n",
    "matrix_test = classification_report(y_test.argmax(axis=1), y_pred.argmax(axis=1))\n",
    "print('Testing Selesai')\n",
    "print(matrix_test)"
   ]
  },
  {
   "cell_type": "code",
   "execution_count": 26,
   "id": "a660b77e-079b-4626-9a73-292a8a768b7d",
   "metadata": {},
   "outputs": [],
   "source": [
    "class_names = ['Negative', 'Neutral', 'Positive']"
   ]
  },
  {
   "cell_type": "code",
   "execution_count": 138,
   "id": "4f8b30ef-2614-404e-b068-10664d6099d8",
   "metadata": {},
   "outputs": [
    {
     "name": "stdout",
     "output_type": "stream",
     "text": [
      "69/69 [==============================] - 3s 13ms/step\n"
     ]
    },
    {
     "data": {
      "image/png": "[encoded data removed]",
      "text/plain": [
       "<Figure size 640x480 with 2 Axes>"
      ]
     },
     "metadata": {},
     "output_type": "display_data"
    }
   ],
   "source": [
    "prediction = model.predict(X_test)\n",
    "y_pred = prediction\n",
    "cm = confusion_matrix(y_test.argmax(axis=1), y_pred.argmax(axis=1))\n",
    "\n",
    "disp = ConfusionMatrixDisplay(confusion_matrix=cm,\n",
    "                              display_labels=class_names)\n",
    "\n",
    "disp.plot()\n",
    "plt.grid(False)\n",
    "plt.savefig('matrix_10.png')\n",
    "plt.show()"
   ]
  },
  {
   "cell_type": "markdown",
   "id": "37606769-0f2c-4376-9dec-401b61509cef",
   "metadata": {},
   "source": [
    "# Implement Model to New Dataset"
   ]
  },
  {
   "cell_type": "markdown",
   "id": "7023c706-76c3-483c-aa09-a9c8b807bffd",
   "metadata": {},
   "source": [
    "## import new data (tweet)"
   ]
  },
  {
   "cell_type": "code",
   "execution_count": 8,
   "id": "0f35e886-abb4-4564-8dcc-ce6a67f37b00",
   "metadata": {},
   "outputs": [],
   "source": [
    "import pandas as pd"
   ]
  },
  {
   "cell_type": "code",
   "execution_count": 9,
   "id": "5bd55273-e32f-4c91-8080-34fb99739cad",
   "metadata": {},
   "outputs": [
    {
     "data": {
      "text/html": [
       "<div>\n",
       "<style scoped>\n",
       "    .dataframe tbody tr th:only-of-type {\n",
       "        vertical-align: middle;\n",
       "    }\n",
       "\n",
       "    .dataframe tbody tr th {\n",
       "        vertical-align: top;\n",
       "    }\n",
       "\n",
       "    .dataframe thead th {\n",
       "        text-align: right;\n",
       "    }\n",
       "</style>\n",
       "<table border=\"1\" class=\"dataframe\">\n",
       "  <thead>\n",
       "    <tr style=\"text-align: right;\">\n",
       "      <th></th>\n",
       "      <th>Tweet</th>\n",
       "    </tr>\n",
       "  </thead>\n",
       "  <tbody>\n",
       "    <tr>\n",
       "      <th>0</th>\n",
       "      <td>di saat semua cowok berusaha melacak perhatian...</td>\n",
       "    </tr>\n",
       "    <tr>\n",
       "      <th>1</th>\n",
       "      <td>siapa telat memberi kamu edan sarap bergaul ci...</td>\n",
       "    </tr>\n",
       "    <tr>\n",
       "      <th>2</th>\n",
       "      <td>kadang aku berpikir aku tetap percaya tuhan pa...</td>\n",
       "    </tr>\n",
       "    <tr>\n",
       "      <th>3</th>\n",
       "      <td>aku aku matamu sipit tapi dilihat mana aku</td>\n",
       "    </tr>\n",
       "    <tr>\n",
       "      <th>4</th>\n",
       "      <td>kaum cebong kafir kelihatan dongoknya awal tam...</td>\n",
       "    </tr>\n",
       "  </tbody>\n",
       "</table>\n",
       "</div>"
      ],
      "text/plain": [
       "                                               Tweet\n",
       "0  di saat semua cowok berusaha melacak perhatian...\n",
       "1  siapa telat memberi kamu edan sarap bergaul ci...\n",
       "2  kadang aku berpikir aku tetap percaya tuhan pa...\n",
       "3         aku aku matamu sipit tapi dilihat mana aku\n",
       "4  kaum cebong kafir kelihatan dongoknya awal tam..."
      ]
     },
     "execution_count": 9,
     "metadata": {},
     "output_type": "execute_result"
    }
   ],
   "source": [
    "df = pd.read_csv(current_directory + \"\\\\Clean_dataset\\\\Clean_data_Tweet.csv\")\n",
    "df.head()"
   ]
  },
  {
   "cell_type": "code",
   "execution_count": 10,
   "id": "9e39aed5-5dc4-45a9-87ca-bb9f6dddc550",
   "metadata": {},
   "outputs": [
    {
     "data": {
      "text/html": [
       "<div>\n",
       "<style scoped>\n",
       "    .dataframe tbody tr th:only-of-type {\n",
       "        vertical-align: middle;\n",
       "    }\n",
       "\n",
       "    .dataframe tbody tr th {\n",
       "        vertical-align: top;\n",
       "    }\n",
       "\n",
       "    .dataframe thead th {\n",
       "        text-align: right;\n",
       "    }\n",
       "</style>\n",
       "<table border=\"1\" class=\"dataframe\">\n",
       "  <thead>\n",
       "    <tr style=\"text-align: right;\">\n",
       "      <th></th>\n",
       "      <th>Tweet</th>\n",
       "    </tr>\n",
       "  </thead>\n",
       "  <tbody>\n",
       "    <tr>\n",
       "      <th>0</th>\n",
       "      <td>di saat semua cowok berusaha melacak perhatian...</td>\n",
       "    </tr>\n",
       "    <tr>\n",
       "      <th>1</th>\n",
       "      <td>siapa telat memberi kamu edan sarap bergaul ci...</td>\n",
       "    </tr>\n",
       "    <tr>\n",
       "      <th>2</th>\n",
       "      <td>kadang aku berpikir aku tetap percaya tuhan pa...</td>\n",
       "    </tr>\n",
       "    <tr>\n",
       "      <th>3</th>\n",
       "      <td>aku aku matamu sipit tapi dilihat mana aku</td>\n",
       "    </tr>\n",
       "    <tr>\n",
       "      <th>4</th>\n",
       "      <td>kaum cebong kafir kelihatan dongoknya awal tam...</td>\n",
       "    </tr>\n",
       "  </tbody>\n",
       "</table>\n",
       "</div>"
      ],
      "text/plain": [
       "                                               Tweet\n",
       "0  di saat semua cowok berusaha melacak perhatian...\n",
       "1  siapa telat memberi kamu edan sarap bergaul ci...\n",
       "2  kadang aku berpikir aku tetap percaya tuhan pa...\n",
       "3         aku aku matamu sipit tapi dilihat mana aku\n",
       "4  kaum cebong kafir kelihatan dongoknya awal tam..."
      ]
     },
     "execution_count": 10,
     "metadata": {},
     "output_type": "execute_result"
    }
   ],
   "source": [
    "df_tweet= pd.DataFrame(df[['Tweet']])\n",
    "df_tweet.head()"
   ]
  },
  {
   "cell_type": "code",
   "execution_count": 11,
   "id": "d0faa1cc-f271-4249-bef4-30a02c28f610",
   "metadata": {},
   "outputs": [
    {
     "name": "stdout",
     "output_type": "stream",
     "text": [
      "<class 'pandas.core.frame.DataFrame'>\n",
      "RangeIndex: 12794 entries, 0 to 12793\n",
      "Data columns (total 1 columns):\n",
      " #   Column  Non-Null Count  Dtype \n",
      "---  ------  --------------  ----- \n",
      " 0   Tweet   12794 non-null  object\n",
      "dtypes: object(1)\n",
      "memory usage: 100.1+ KB\n"
     ]
    }
   ],
   "source": [
    "df_tweet.info()"
   ]
  },
  {
   "cell_type": "markdown",
   "id": "402bf77e-ad74-47c8-a7a7-d89d4293c06d",
   "metadata": {},
   "source": [
    "# Prediction"
   ]
  },
  {
   "cell_type": "code",
   "execution_count": 1,
   "id": "2afbb105-1659-4ae8-9553-6160c0e1716c",
   "metadata": {},
   "outputs": [
    {
     "name": "stdout",
     "output_type": "stream",
     "text": [
      "WARNING:tensorflow:From C:\\Users\\ASUS\\AppData\\Local\\Programs\\Python\\Python311\\Lib\\site-packages\\keras\\src\\losses.py:2976: The name tf.losses.sparse_softmax_cross_entropy is deprecated. Please use tf.compat.v1.losses.sparse_softmax_cross_entropy instead.\n",
      "\n"
     ]
    }
   ],
   "source": [
    "import os\n",
    "import re\n",
    "import json\n",
    "import numpy as np\n",
    "from keras.models import load_model\n",
    "from collections import Counter"
   ]
  },
  {
   "cell_type": "code",
   "execution_count": 2,
   "id": "8dff40e7-ed34-468a-b06a-94829fa0fdb3",
   "metadata": {},
   "outputs": [],
   "source": [
    "current_directory = os.path.dirname(os.path.abspath(\"LSTM.ipynb\"))"
   ]
  },
  {
   "cell_type": "code",
   "execution_count": 3,
   "id": "adbdc99a-f394-4f8b-874e-7930a915253e",
   "metadata": {},
   "outputs": [
    {
     "name": "stdout",
     "output_type": "stream",
     "text": [
      "WARNING:tensorflow:From C:\\Users\\ASUS\\AppData\\Local\\Programs\\Python\\Python311\\Lib\\site-packages\\keras\\src\\backend.py:1398: The name tf.executing_eagerly_outside_functions is deprecated. Please use tf.compat.v1.executing_eagerly_outside_functions instead.\n",
      "\n",
      "WARNING:tensorflow:From C:\\Users\\ASUS\\AppData\\Local\\Programs\\Python\\Python311\\Lib\\site-packages\\keras\\src\\utils\\tf_utils.py:492: The name tf.ragged.RaggedTensorValue is deprecated. Please use tf.compat.v1.ragged.RaggedTensorValue instead.\n",
      "\n"
     ]
    }
   ],
   "source": [
    "model_LSTM = load_model(r\"E:\\BINAR\\Platinum-Challenge\\Neural_Network_LSTM\\model_LSTM.keras\")"
   ]
  },
  {
   "cell_type": "code",
   "execution_count": 4,
   "id": "0578e157-8b2f-451e-bf95-68f0eaba42b6",
   "metadata": {},
   "outputs": [],
   "source": [
    "list_sentiment = ['negative', 'neutral', 'positive']"
   ]
  },
  {
   "cell_type": "code",
   "execution_count": 5,
   "id": "3b16437e-f974-4570-9313-79a1ede8781f",
   "metadata": {},
   "outputs": [],
   "source": [
    "def LSTM_CSV_prediction(df):\n",
    "    Data = np.array(df.Tweet)\n",
    "    prediction = model_LSTM.predict(Data, batch_size=32)\n",
    "\n",
    "    label = []\n",
    "    for i in range(len(prediction)):\n",
    "        polarity = np.argmax(prediction[i])\n",
    "        sentiment = list_sentiment[polarity]\n",
    "\n",
    "        label.append(sentiment)\n",
    "    jsonList = []\n",
    "    for i in range(len(Data)):\n",
    "        jsonList.append({\"Tweet\" : Data[i], \"Label\" : label[i]})\n",
    "    return jsonList"
   ]
  },
  {
   "cell_type": "code",
   "execution_count": null,
   "id": "ec52bb5d-c7d2-44cb-8404-cb7f60f1e0d8",
   "metadata": {},
   "outputs": [
    {
     "name": "stdout",
     "output_type": "stream",
     "text": [
      "400/400 [==============================] - 6s 12ms/step\n"
     ]
    }
   ],
   "source": [
    "json_final = LSTM_CSV_prediction(df_tweet)"
   ]
  },
  {
   "cell_type": "code",
   "execution_count": 26,
   "id": "2fcc0846-a535-4eb7-b186-e5f851033803",
   "metadata": {},
   "outputs": [
    {
     "data": {
      "text/plain": [
       "[{'Tweet': 'di saat semua cowok berusaha melacak perhatian kamu lantas remehkan perhatian kasih khusus kamu basic kamu cowok bego',\n",
       "  'Label': 'negative'},\n",
       " {'Tweet': 'siapa telat memberi kamu edan sarap bergaul cigax jifla calis sama siapa licew',\n",
       "  'Label': 'negative'},\n",
       " {'Tweet': 'kadang aku berpikir aku tetap percaya tuhan padahal aku selalu jatuh berkali kali kadang aku merasa tuhan meninggalkan aku sendirian orang tuaku berencana berpisah kakakku lebih memilih jadi kristen aku anak ter',\n",
       "  'Label': 'positive'},\n",
       " {'Tweet': 'aku aku matamu sipit tapi dilihat mana aku', 'Label': 'positive'},\n",
       " {'Tweet': 'kaum cebong kafir kelihatan dongoknya awal tambah dungu haha',\n",
       "  'Label': 'negative'}]"
      ]
     },
     "execution_count": 26,
     "metadata": {},
     "output_type": "execute_result"
    }
   ],
   "source": [
    "json_final[:5]"
   ]
  },
  {
   "cell_type": "markdown",
   "id": "3fe6da2d-3d08-43c5-be90-462b9f2eb27f",
   "metadata": {},
   "source": [
    "## json dump"
   ]
  },
  {
   "cell_type": "code",
   "execution_count": null,
   "id": "abff8a35-57fa-4fd1-b8c9-63583aec2acb",
   "metadata": {},
   "outputs": [],
   "source": [
    "json_akhir = json.dumps(json_final, indent = 1)"
   ]
  },
  {
   "cell_type": "code",
   "execution_count": 29,
   "id": "5c4b6b99-9176-4f13-8ad2-3b0e6b75b9c1",
   "metadata": {},
   "outputs": [],
   "source": [
    "# Writing to sample.json\n",
    "# with open(\"hasil_json.json\", \"w\") as outfile:\n",
    "#     outfile.write(json_final)"
   ]
  },
  {
   "cell_type": "code",
   "execution_count": null,
   "id": "5b4d23cc-7624-475a-884c-6d369d743197",
   "metadata": {},
   "outputs": [],
   "source": [
    "# df = pd.read_json('hasil_json.json')\n",
    "# df.head()"
   ]
  }
 ],
 "metadata": {
  "kernelspec": {
   "display_name": "Python 3 (ipykernel)",
   "language": "python",
   "name": "python3"
  },
  "language_info": {
   "codemirror_mode": {
    "name": "ipython",
    "version": 3
   },
   "file_extension": ".py",
   "mimetype": "text/x-python",
   "name": "python",
   "nbconvert_exporter": "python",
   "pygments_lexer": "ipython3",
   "version": "3.11.7"
  }
 },
 "nbformat": 4,
 "nbformat_minor": 5
}
